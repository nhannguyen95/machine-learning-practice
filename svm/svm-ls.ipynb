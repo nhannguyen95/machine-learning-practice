{
 "cells": [
  {
   "cell_type": "markdown",
   "metadata": {},
   "source": [
    "## 0. Content\n",
    "\n",
    "* [1. Loading and Visualizing data](#section1)\n",
    "* [2. Solving SVM Dual Problem](#section2)\n",
    "    * [2.1. Examine the result](#section2.1)\n",
    "    * [2.2. Solving the roots of SVM Primal Problem](#section2.2)\n",
    "    * [2.3. Plotting the result](#section2.3)\n",
    "* [3. Solving SVM Primal Problem](#section3)\n",
    "* [4. Solving SVM with sklearn](#section4)\n",
    "* [5. References](#section5)"
   ]
  },
  {
   "cell_type": "code",
   "execution_count": 1,
   "metadata": {
    "collapsed": true
   },
   "outputs": [],
   "source": [
    "import numpy as np\n",
    "import matplotlib.pyplot as plt"
   ]
  },
  {
   "cell_type": "markdown",
   "metadata": {},
   "source": [
    "<a id='section1'></a>\n",
    "## 1. Loading and Visualizing data"
   ]
  },
  {
   "cell_type": "code",
   "execution_count": 2,
   "metadata": {},
   "outputs": [],
   "source": [
    "# Just a simple 2D data\n",
    "data = np.loadtxt('../data/data7.txt', delimiter = ',')\n",
    "\n",
    "m = data.shape[0]  # Number of training examples\n",
    "\n",
    "y = data[:, np.newaxis, 2]\n",
    "\n",
    "X = data[:, 0:2]\n",
    "X0 = X[np.where(y == 0)[0], :]  # Class 0 (not feature!)\n",
    "X1 = X[np.where(y == 1)[0], :]  # Class 1"
   ]
  },
  {
   "cell_type": "code",
   "execution_count": 3,
   "metadata": {},
   "outputs": [
    {
     "data": {
      "image/png": "[encoded data removed]",
      "text/plain": [
       "<matplotlib.figure.Figure at 0x107a2d9b0>"
      ]
     },
     "metadata": {},
     "output_type": "display_data"
    }
   ],
   "source": [
    "plt.figure(1)\n",
    "plt.scatter(X[:, 0], X[:, 1], c = y, cmap = plt.cm.Paired, edgecolors = 'k')\n",
    "plt.xlabel('$x_1$', fontsize = 15)\n",
    "plt.ylabel('$x_2$', fontsize = 15)\n",
    "plt.xticks(())\n",
    "plt.yticks(())\n",
    "plt.title('Simple 2D Linearly Separable Data')\n",
    "plt.show()"
   ]
  },
  {
   "cell_type": "markdown",
   "metadata": {
    "collapsed": true
   },
   "source": [
    "<a id='section2'></a>\n",
    "## 2. Solving SVM Dual Problem\n",
    "\n",
    "SVM Dual Problem is a Quadratic Programming, we can solve this with [CVXOPT](http://cvxopt.org/) (Python Software For Convex Optimization):\n",
    "\n",
    "<a href=\"https://www.codecogs.com/eqnedit.php?latex=(\\lambda)&space;=&space;argmin&space;~&space;\\frac{1}{2}&space;\\lambda^{T}&space;P&space;\\lambda&space;&plus;&space;(-1)^{T}\\lambda&space;\\newline&space;\\newline&space;~\\hspace{45pt}&space;subject&space;~&space;to:&space;\\left\\{\\begin{matrix}&space;y^{T}\\lambda&space;=&space;0&space;\\\\&space;\\lambda&space;\\geq&space;0&space;\\end{matrix}\\right.\" target=\"_blank\"><img src=\"https://latex.codecogs.com/gif.latex?(\\lambda)&space;=&space;argmin&space;~&space;\\frac{1}{2}&space;\\lambda^{T}&space;P&space;\\lambda&space;&plus;&space;(-1)^{T}\\lambda&space;\\newline&space;\\newline&space;~\\hspace{45pt}&space;subject&space;~&space;to:&space;\\left\\{\\begin{matrix}&space;y^{T}\\lambda&space;=&space;0&space;\\\\&space;\\lambda&space;\\geq&space;0&space;\\end{matrix}\\right.\" title=\"(\\lambda) = argmin ~ \\frac{1}{2} \\lambda^{T} P \\lambda + (-1)^{T}\\lambda \\newline \\newline ~\\hspace{45pt} subject ~ to: \\left\\{\\begin{matrix} y^{T}\\lambda = 0 \\\\ \\lambda \\geq 0 \\end{matrix}\\right.\" /></a>\n",
    "\n",
    "The name of the matrices is according to the official documentation of CVXOPT on Quadratic Programming: [link](http://cvxopt.org/userguide/coneprog.html#quadratic-programming)."
   ]
  },
  {
   "cell_type": "code",
   "execution_count": 4,
   "metadata": {
    "collapsed": true
   },
   "outputs": [],
   "source": [
    "from cvxopt import matrix, solvers"
   ]
  },
  {
   "cell_type": "code",
   "execution_count": 5,
   "metadata": {
    "collapsed": true,
    "scrolled": true
   },
   "outputs": [],
   "source": [
    "# Map 0 to -1\n",
    "y[np.where(y == 0)[0], 0] = -1\n",
    "\n",
    "# Build the Quadratic Coefficient Matrix P\n",
    "V = np.concatenate((-X0, X1), axis = 0)\n",
    "P = matrix(V.dot(V.T))\n",
    "\n",
    "q = matrix(-np.ones((m, 1)))\n",
    "# Matrices for the equality constraint\n",
    "A = matrix(np.reshape(y.T, (1, m)))\n",
    "b = matrix(np.zeros((1, 1)))\n",
    "# Matrices for the unequality constraint (lambda >= 0)\n",
    "G = matrix(-np.eye(m))\n",
    "h = matrix(np.zeros((m, 1)))  # G*lambda <= h; so with given G, h: lambda >= 0\n",
    "\n",
    "solvers.options['show_progress'] = False\n",
    "sol = solvers.qp(P, q, G, h, A, b)  # Solve the Quadratic Programming"
   ]
  },
  {
   "cell_type": "markdown",
   "metadata": {},
   "source": [
    "<a id='section2.1'></a>\n",
    "### 2.1. Examine the result"
   ]
  },
  {
   "cell_type": "code",
   "execution_count": 6,
   "metadata": {},
   "outputs": [
    {
     "name": "stdout",
     "output_type": "stream",
     "text": [
      "lambda = \n",
      "[[  1.59999998e+00   1.93985296e-09   1.29330228e-09   6.46651145e-10\n",
      "    1.29343877e-09   1.10851193e-09   5.96927966e-10   4.56465238e-10\n",
      "    1.10871283e-09   1.59950601e+00   8.62142125e-10   1.93985296e-09\n",
      "    3.39909447e-04   7.75823699e-09   1.54049256e-04   2.58511819e-09]]\n"
     ]
    }
   ],
   "source": [
    "l = np.array(sol['x'])\n",
    "print('lambda = ')\n",
    "print(l.T)"
   ]
  },
  {
   "cell_type": "markdown",
   "metadata": {},
   "source": [
    "We can observe there are 4 lambda values which aren't equal to 0, hence there are 4 support vectors."
   ]
  },
  {
   "cell_type": "markdown",
   "metadata": {},
   "source": [
    "<a id='section2.2'></a>\n",
    "### 2.2. Solving the roots of SVM Primal Problem"
   ]
  },
  {
   "cell_type": "code",
   "execution_count": 7,
   "metadata": {},
   "outputs": [
    {
     "name": "stdout",
     "output_type": "stream",
     "text": [
      "w =  [[ 1.59967597 -0.800648  ]]\n",
      "b =  1.39971648323\n"
     ]
    }
   ],
   "source": [
    "epsilon = 1e-6  # Need this since we're working on float numbers\n",
    "S = np.where(l > epsilon)[0]  # Support set: a set of support vectors\n",
    "\n",
    "VS = V[S, :]\n",
    "XS = X[S, :]\n",
    "yS = y[S, :]\n",
    "lS = l[S]\n",
    "\n",
    "# Calculate w and b\n",
    "w = lS.T.dot(VS)\n",
    "b = np.mean(yS.T - w.dot(XS.T))\n",
    "\n",
    "print('w = ', w)\n",
    "print('b = ', b)"
   ]
  },
  {
   "cell_type": "markdown",
   "metadata": {},
   "source": [
    "### 2.3. Plotting the result"
   ]
  },
  {
   "cell_type": "code",
   "execution_count": 8,
   "metadata": {},
   "outputs": [
    {
     "data": {
      "image/png": "[encoded data removed]",
      "text/plain": [
       "<matplotlib.figure.Figure at 0x107c510f0>"
      ]
     },
     "metadata": {},
     "output_type": "display_data"
    }
   ],
   "source": [
    "plt.figure(2)\n",
    "\n",
    "# Plot the data\n",
    "plt.scatter(X[:, 0], X[:, 1], c = y, cmap = plt.cm.Paired, edgecolors = 'k')\n",
    "\n",
    "# Plot the separable line\n",
    "x1_min, x1_max = np.min(X[:, 0]), np.max(X[:, 0])\n",
    "x1 = np.linspace(x1_min, x1_max, endpoint = True)\n",
    "slope = -w[0][0] / w[0][1]\n",
    "intercept = -b / w[0][1]\n",
    "x2 = slope * x1 + intercept\n",
    "plt.plot(x1, x2, color = 'blue')\n",
    "\n",
    "# Circle around 4 support vectors\n",
    "plt.plot(XS[:, 0], XS[:, 1], 'ro', fillstyle = 'none', markersize = 11)\n",
    "\n",
    "plt.xticks(())\n",
    "plt.yticks(())\n",
    "plt.xlabel('$x_1$', fontsize = 15)\n",
    "plt.ylabel('$x_2$', fontsize = 15)\n",
    "\n",
    "plt.show()"
   ]
  },
  {
   "cell_type": "markdown",
   "metadata": {},
   "source": [
    "## 3. Solving SVM Primal Problem\n",
    "\n",
    "The SVM Primal Problem is maximizing the margin for the separable line:\n",
    "\n",
    "<a href=\"https://www.codecogs.com/eqnedit.php?latex=(w,&space;b)&space;=&space;argmin&space;~&space;\\frac{1}{2}&space;\\left&space;\\|&space;w&space;\\right&space;\\|^{2}_{2}&space;=&space;argmin&space;\\frac{1}{2}&space;w^{T}Iw&space;\\newline&space;\\newline&space;~\\hspace{45pt}&space;subject&space;~&space;to:&space;1&space;-&space;y_{n}(w^{T}x_{n}&plus;b)&space;\\leq&space;0\" target=\"_blank\"><img src=\"https://latex.codecogs.com/gif.latex?(w,&space;b)&space;=&space;argmin&space;~&space;\\frac{1}{2}&space;\\left&space;\\|&space;w&space;\\right&space;\\|^{2}_{2}&space;=&space;argmin&space;\\frac{1}{2}&space;w^{T}Iw&space;\\newline&space;\\newline&space;~\\hspace{45pt}&space;subject&space;~&space;to:&space;1&space;-&space;y_{n}(w^{T}x_{n}&plus;b)&space;\\leq&space;0\" title=\"(w, b) = argmin ~ \\frac{1}{2} \\left \\| w \\right \\|^{2}_{2} = argmin \\frac{1}{2} w^{T}Iw \\newline \\newline ~\\hspace{45pt} subject ~ to: 1 - y_{n}(w^{T}x_{n}+b) \\leq 0\" /></a>\n",
    "\n",
    "This is also a Quadractic Programming and we can use CVXOPT again to solve it."
   ]
  },
  {
   "cell_type": "markdown",
   "metadata": {
    "collapsed": true
   },
   "source": [
    "## 4. Solving SVM with sklearn"
   ]
  },
  {
   "cell_type": "code",
   "execution_count": 9,
   "metadata": {
    "collapsed": true
   },
   "outputs": [],
   "source": [
    "from sklearn.svm import SVC"
   ]
  },
  {
   "cell_type": "code",
   "execution_count": 10,
   "metadata": {},
   "outputs": [
    {
     "name": "stdout",
     "output_type": "stream",
     "text": [
      "w =  [[ 1.6 -0.8]]\n",
      "b =  [ 1.4]\n"
     ]
    }
   ],
   "source": [
    "y = y.reshape((m,))\n",
    "clf = SVC(kernel = 'linear', C = 1e6)  # With large C, the solver will focus on\n",
    "                                       # maximizing the margin of separable line\n",
    "                                       # (Since the data is linearly separable, there's no error \n",
    "                                       # and we don't care of it)\n",
    "            \n",
    "clf.fit(X, y)\n",
    "\n",
    "w = clf.coef_\n",
    "b = clf.intercept_\n",
    "print('w = ', w)\n",
    "print('b = ', b)"
   ]
  },
  {
   "cell_type": "markdown",
   "metadata": {},
   "source": [
    "The obtained result is the same as solving the dual problem with CVXOPT."
   ]
  },
  {
   "cell_type": "markdown",
   "metadata": {},
   "source": [
    "## 5. References\n",
    "\n",
    "[[1] CVXOPT](http://cvxopt.org/)\n",
    "\n",
    "[[2] machinelearningcoban.com](https://machinelearningcoban.com/)\n"
   ]
  },
  {
   "cell_type": "code",
   "execution_count": null,
   "metadata": {
    "collapsed": true
   },
   "outputs": [],
   "source": []
  }
 ],
 "metadata": {
  "kernelspec": {
   "display_name": "Python 3",
   "language": "python",
   "name": "python3"
  },
  "language_info": {
   "codemirror_mode": {
    "name": "ipython",
    "version": 3
   },
   "file_extension": ".py",
   "mimetype": "text/x-python",
   "name": "python",
   "nbconvert_exporter": "python",
   "pygments_lexer": "ipython3",
   "version": "3.5.4"
  }
 },
 "nbformat": 4,
 "nbformat_minor": 2
}
