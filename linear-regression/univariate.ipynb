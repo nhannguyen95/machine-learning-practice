{
 "cells": [
  {
   "cell_type": "markdown",
   "metadata": {},
   "source": [
    "## Content\n",
    "\n",
    "1. Loading and Visualizing data\n",
    "\n",
    "2. Constructing the model\n",
    "\n",
    "3. Implementation/Training the model\n",
    "\n",
    "4. Plot the result\n",
    "\n",
    "5. References"
   ]
  },
  {
   "cell_type": "code",
   "execution_count": 36,
   "metadata": {
    "collapsed": true
   },
   "outputs": [],
   "source": [
    "import numpy as np\n",
    "import matplotlib.pyplot as plt"
   ]
  },
  {
   "cell_type": "markdown",
   "metadata": {},
   "source": [
    "## 1. Loading and Visualizing data"
   ]
  },
  {
   "cell_type": "code",
   "execution_count": 37,
   "metadata": {
    "collapsed": true
   },
   "outputs": [],
   "source": [
    "# The data is from Coursera Machine Learning course/week2/ex1data1.txt\n",
    "data = np.loadtxt('../data/data1.txt', delimiter = ',')\n",
    "\n",
    "X = data[:, 0, np.newaxis]  # Population\n",
    "Y = data[:, 1, np.newaxis]  # Profit"
   ]
  },
  {
   "cell_type": "code",
   "execution_count": 38,
   "metadata": {
    "scrolled": true
   },
   "outputs": [
    {
     "data": {
      "text/plain": [
       "<matplotlib.figure.Figure at 0x11c3fa048>"
      ]
     },
     "metadata": {},
     "output_type": "display_data"
    },
    {
     "data": {
      "image/png": "[encoded data removed]",
      "text/plain": [
       "<matplotlib.figure.Figure at 0x11c9db898>"
      ]
     },
     "metadata": {},
     "output_type": "display_data"
    }
   ],
   "source": [
    "# Visualize data\n",
    "figureId = 1\n",
    "\n",
    "def plotData(X, Y):\n",
    "    global figureId\n",
    "    plt.figure(figureId)\n",
    "    plt.figure()\n",
    "    plt.grid()\n",
    "    plt.xlabel('Population of City in 10,000s')\n",
    "    plt.ylabel('Profit in $10,000s')\n",
    "    plt.plot(X, Y, 'r+')\n",
    "    plt.draw()\n",
    "    \n",
    "    figureId += 1\n",
    "\n",
    "plotData(X, Y)\n",
    "plt.show()"
   ]
  },
  {
   "cell_type": "markdown",
   "metadata": {},
   "source": [
    "## 2. Constructing the model\n",
    "\n",
    "We use Linear Regression model (hypothesis function is a linear function):\n",
    "$$h_{\\theta}(x) = \\theta_{0} + \\sum_{i = 1}^{n}\\theta_{i} x_{i}$$\n",
    "_with n is the number of features of x_\n",
    "\n",
    "Set $x_{0} = 1$, we have:\n",
    "$$h_{\\theta}(X) = \\sum_{i = 0}^{n} \\theta_{i} x_{i} = \\theta^{T}x$$\n",
    "_This is called bias term_\n",
    "\n",
    "Loss function of i-_th_ training data (square loss is often used in Linear Regression [1]):\n",
    "$$L(\\hat{y}^{(i)}, y^{(i)}) = (h_{\\theta}(x^{(i)}) - y^{(i)})^{2} = (\\theta^{T}x - y^{(i)})^2$$\n",
    "\n",
    "Cost function on the whole training data set\n",
    "\n",
    "$$ J(\\theta) = \\frac{1}{2m}\\sum_{i = 1}^{m}L(\\hat{y}^{(i)}, y) = \\frac{1}{2m}\\sum_{i = 1}^{m}(h_{\\theta}(x^{(i)}) - y^{(i)})^{2}$$\n",
    "\n",
    "Our goal is to minimize this cost funtion $J(\\theta)$, to do that we can use Gradient Descent.\n",
    "\n",
    "We need to compute the derivative $\\frac{dJ}{d\\theta_{j}}$:\n",
    "\n",
    "$$\\frac{dJ}{d\\theta_{j}} = \\frac{1}{m}\\sum_{i = 1}^{m}(h_{\\theta}(x^{(i)}) - y^{(i)})x^{(i)}_{j}$$\n",
    "\n",
    "Our update formular:\n",
    "\n",
    "$$\\theta_{j} = \\theta_{j} - \\alpha \\frac{dJ}{d\\theta_{j}} = \\theta_{j} - \\alpha \\frac{1}{m}\\sum_{i = 1}^{m}(h_{\\theta}(x^{(i)} - y^{(i)})x^{(i)}_{j}$$\n",
    "\n",
    "_with $\\alpha$ is the learning rate._"
   ]
  },
  {
   "cell_type": "markdown",
   "metadata": {},
   "source": [
    "## 3. Implementation/Training the model"
   ]
  },
  {
   "cell_type": "markdown",
   "metadata": {},
   "source": [
    "In order to run Gradient Descent (or other type of optimization algorithms) efficiently, we need to firstly normalize our data, this is called Feature Scaling (or Feature Normalization).\n",
    "\n",
    "There are some methods to normalize data, we will use Standardization:"
   ]
  },
  {
   "cell_type": "code",
   "execution_count": 39,
   "metadata": {
    "collapsed": true
   },
   "outputs": [],
   "source": [
    "# Feature Normalization using Standardization\n",
    "# x = (x - μ) / σ\n",
    "mu = np.mean(X, axis = 0)\n",
    "sd = np.std(X, axis = 0)\n",
    "X = (X - mu) / sd"
   ]
  },
  {
   "cell_type": "markdown",
   "metadata": {},
   "source": [
    "Adding bias term and define some paramters for Gradient Descent"
   ]
  },
  {
   "cell_type": "code",
   "execution_count": 40,
   "metadata": {
    "collapsed": true
   },
   "outputs": [],
   "source": [
    "X = np.column_stack((np.ones((X.shape[0], 1)), X))  # No need to nomarlize bias term\n",
    "\n",
    "alpha = 0.0025  # learning rate\n",
    "w_init = np.zeros((X.shape[1], 1))  # theta"
   ]
  },
  {
   "cell_type": "markdown",
   "metadata": {},
   "source": [
    "Traning the model"
   ]
  },
  {
   "cell_type": "code",
   "execution_count": 52,
   "metadata": {
    "collapsed": true
   },
   "outputs": [],
   "source": [
    "def gradient_descent(X, Y, w_init, alpha, max_iter = 1000):\n",
    "    w = w_init\n",
    "    m = X.shape[0]  # Number of training examples\n",
    "    iter = 0\n",
    "    while iter < max_iter:\n",
    "        # Batch gradient descent \n",
    "        loss = X.dot(w) - Y\n",
    "        w = w - alpha * (1 / m) * X.T.dot(loss)\n",
    "        iter += 1\n",
    "        \n",
    "    return w\n",
    "    \n",
    "w = gradient_descent(X, Y, w_init, alpha)"
   ]
  },
  {
   "cell_type": "code",
   "execution_count": 53,
   "metadata": {
    "scrolled": true
   },
   "outputs": [
    {
     "name": "stdout",
     "output_type": "stream",
     "text": [
      "[ 5.36132764  4.21719967]\n"
     ]
    }
   ],
   "source": [
    "w = w.ravel()\n",
    "print(w)"
   ]
  },
  {
   "cell_type": "markdown",
   "metadata": {},
   "source": [
    "## 4. Plot the result"
   ]
  },
  {
   "cell_type": "code",
   "execution_count": 54,
   "metadata": {},
   "outputs": [
    {
     "data": {
      "image/png": "[encoded data removed]",
      "text/plain": [
       "<matplotlib.figure.Figure at 0x11c4ae128>"
      ]
     },
     "metadata": {},
     "output_type": "display_data"
    },
    {
     "data": {
      "text/plain": [
       "<matplotlib.figure.Figure at 0x11ce33048>"
      ]
     },
     "metadata": {},
     "output_type": "display_data"
    }
   ],
   "source": [
    "# Training data\n",
    "plotData(X[:, 1], Y)\n",
    "\n",
    "plt.plot(X[:, 1], w[0] + w[1] * X[:, 1],\n",
    "         color = 'blue', \n",
    "         linewidth = '0.5')\n",
    "plt.draw()\n",
    "plt.show()"
   ]
  },
  {
   "cell_type": "markdown",
   "metadata": {},
   "source": [
    "## 5.  References\n",
    "\n",
    "[[1] Objective function, cost function, loss function: are they the same thing?](https://stats.stackexchange.com/questions/179026/objective-function-cost-function-loss-function-are-they-the-same-thing)"
   ]
  },
  {
   "cell_type": "code",
   "execution_count": null,
   "metadata": {
    "collapsed": true
   },
   "outputs": [],
   "source": []
  }
 ],
 "metadata": {
  "kernelspec": {
   "display_name": "Python 3",
   "language": "python",
   "name": "python3"
  },
  "language_info": {
   "codemirror_mode": {
    "name": "ipython",
    "version": 3
   },
   "file_extension": ".py",
   "mimetype": "text/x-python",
   "name": "python",
   "nbconvert_exporter": "python",
   "pygments_lexer": "ipython3",
   "version": "3.5.4"
  }
 },
 "nbformat": 4,
 "nbformat_minor": 2
}
