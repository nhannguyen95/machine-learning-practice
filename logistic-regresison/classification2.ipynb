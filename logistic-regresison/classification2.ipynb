{
 "cells": [
  {
   "cell_type": "markdown",
   "metadata": {},
   "source": [
    "## Content\n",
    "\n",
    "1. Foreword\n",
    "2. Loading and Visualizing data\n",
    "3. Feature mapping\n",
    "4. Feature normalization\n",
    "5. Training the model\n",
    "6. Plot the decision boundary\n",
    "7. Accuracy"
   ]
  },
  {
   "cell_type": "code",
   "execution_count": 1,
   "metadata": {
    "collapsed": true
   },
   "outputs": [],
   "source": [
    "import numpy as np\n",
    "import matplotlib.pyplot as plt"
   ]
  },
  {
   "cell_type": "markdown",
   "metadata": {},
   "source": [
    "## 1. Foreword\n",
    "\n",
    "You should read `classification-lib` first, most of the detail explanation I left there.\n",
    "\n",
    "## 2. Loading and Visualizing data"
   ]
  },
  {
   "cell_type": "code",
   "execution_count": 2,
   "metadata": {},
   "outputs": [],
   "source": [
    "# The data is from Coursera Machine Learning course/week3/ex2data2.txt\n",
    "data = np.loadtxt('../data/data4.txt', delimiter = ',')\n",
    "\n",
    "# Some useful variable \n",
    "m = data.shape[0]      # Number of training examples\n",
    "n = data.shape[1] - 1  # Number of features\n",
    "\n",
    "X = data[:, 0:n]  # Score of two different tests on a microchip\n",
    "Y = data[:, n, np.newaxis]  # The microchip is accepted/rejected (1/0)"
   ]
  },
  {
   "cell_type": "code",
   "execution_count": 3,
   "metadata": {},
   "outputs": [
    {
     "data": {
      "image/png": "[encoded data removed]",
      "text/plain": [
       "<matplotlib.figure.Figure at 0x10f83fcc0>"
      ]
     },
     "metadata": {},
     "output_type": "display_data"
    }
   ],
   "source": [
    "figureId = 1\n",
    "\n",
    "def plotData(X, Y):\n",
    "    global figureId\n",
    "    plt.figure(figureId)\n",
    "    plt.xlabel('Exam 1 score')\n",
    "    plt.ylabel('Exam 2 score')\n",
    "    neg = np.where(Y == 0)[0]  # index of rejected examples\n",
    "    pos = np.where(Y == 1)[0]  # index of accepted examples\n",
    "    plt.plot(X[neg, 0], X[neg, 1], 'o', color = 'blue', mec = 'black', label = 'Fail')\n",
    "    plt.plot(X[pos, 0], X[pos, 1], 's', color = 'yellow', mec = 'black', label = 'Pass')\n",
    "    plt.legend(loc = 'upper right')\n",
    "    plt.draw()\n",
    "    \n",
    "    figureId += 1\n",
    "    \n",
    "plotData(X, Y)\n",
    "plt.show()"
   ]
  },
  {
   "cell_type": "markdown",
   "metadata": {},
   "source": [
    "## 3. Feature mapping"
   ]
  },
  {
   "cell_type": "code",
   "execution_count": 4,
   "metadata": {},
   "outputs": [],
   "source": [
    "def map_feature(X1, X2, degree):\n",
    "    X1 = np.atleast_1d(X1)  # Wrap in an array\n",
    "    X2 = np.atleast_1d(X2)\n",
    "    X = np.ones((X1.shape[0], 1))\n",
    "    for i in range(1, degree + 1):\n",
    "        for j in range(0, i + 1):\n",
    "            new_feature = (X1**(i - j)) * (X2**j)\n",
    "            X = np.column_stack((X, new_feature))\n",
    "    return X\n",
    "\n",
    "# Map original features to polynomial features\n",
    "# in order to fit data better\n",
    "degree = 6  # Highest degree of polynomial features\n",
    "X = map_feature(X[:, 0, np.newaxis], X[:, 1, np.newaxis], degree)"
   ]
  },
  {
   "cell_type": "markdown",
   "metadata": {},
   "source": [
    "## 4. Feature normalization"
   ]
  },
  {
   "cell_type": "code",
   "execution_count": 5,
   "metadata": {},
   "outputs": [],
   "source": [
    "# Feature Normalization using Standardizatino\n",
    "mu = np.mean(X[:, 1::], axis = 0)  # Excluding bias term at X[:, 0]\n",
    "sd = np.std(X[:, 1::], axis = 0)\n",
    "X[:, 1::] = (X[:, 1::] - mu) / sd"
   ]
  },
  {
   "cell_type": "markdown",
   "metadata": {},
   "source": [
    "## 5. Training the model"
   ]
  },
  {
   "cell_type": "code",
   "execution_count": 6,
   "metadata": {},
   "outputs": [
    {
     "name": "stdout",
     "output_type": "stream",
     "text": [
      "Trained coefficients: \n",
      " [[-0.21320808]\n",
      " [ 0.29050681]\n",
      " [ 0.51344552]\n",
      " [-0.41470818]\n",
      " [-0.32205685]\n",
      " [-0.37278621]\n",
      " [ 0.15626028]\n",
      " [ 0.09937543]\n",
      " [-0.02869429]\n",
      " [ 0.08291006]\n",
      " [-0.43106297]\n",
      " [-0.05258499]\n",
      " [-0.22727667]\n",
      " [-0.13521405]\n",
      " [-0.38949718]\n",
      " [-0.03242277]\n",
      " [-0.02584898]\n",
      " [ 0.13273112]\n",
      " [-0.09370624]\n",
      " [-0.15270148]\n",
      " [-0.1166429 ]\n",
      " [-0.37328821]\n",
      " [ 0.02464111]\n",
      " [-0.23309877]\n",
      " [ 0.05819058]\n",
      " [-0.27040301]\n",
      " [-0.08390684]\n",
      " [-0.32362774]]\n"
     ]
    }
   ],
   "source": [
    "def sigmoid(x):\n",
    "    return 1 / (1 + np.exp(-x))\n",
    "\n",
    "def logistic_gradient_descent(X, Y, w_init, alpha, lamba, max_iter = 10000):\n",
    "    w = w_init\n",
    "    iter = 0\n",
    "    global m\n",
    "    n = X.shape[1]\n",
    "    while iter < max_iter:\n",
    "        # Batch gradient descent\n",
    "        error = sigmoid(X.dot(w)) - Y\n",
    "        w = w - alpha * (1 / m) * X.T.dot(error) - lamda * (1 / (n - 1)) * w\n",
    "        w[0] += lamda * (1 / (n - 1)) * w[0]  # No regularize bias term w[0]\n",
    "        \n",
    "        iter += 1\n",
    "    return w\n",
    "\n",
    "# Define parameters for Gradient Descent\n",
    "alpha = 0.5  # Learning rate\n",
    "lamda = 1    # Regularization term lambda\n",
    "w_init = np.zeros((X.shape[1], 1))\n",
    "\n",
    "# Training model\n",
    "w = logistic_gradient_descent(X, Y, w_init, alpha, lamda)\n",
    "print('Trained coefficients: \\n', w[0::])"
   ]
  },
  {
   "cell_type": "markdown",
   "metadata": {},
   "source": [
    "## 6. Plot the decision boundary"
   ]
  },
  {
   "cell_type": "code",
   "execution_count": 7,
   "metadata": {},
   "outputs": [
    {
     "data": {
      "image/png": "[encoded data removed]",
      "text/plain": [
       "<matplotlib.figure.Figure at 0x11663c320>"
      ]
     },
     "metadata": {},
     "output_type": "display_data"
    }
   ],
   "source": [
    "# Plot the training data\n",
    "plotData(X[:, 1:3], Y)\n",
    "\n",
    "# Plot decision boundary using contour\n",
    "# Take min, max of X1, X2 BEFORE normalizing\n",
    "x1_min, x1_max = data[:, 0].min() - .5, data[:, 0].max() + .5\n",
    "x2_min, x2_max = data[:, 1].min() - .5, data[:, 1].max() + .5\n",
    "h = .05  # Step size in the mesh\n",
    "xx1, xx2 = np.mgrid[x1_min:x1_max:h, x2_min:x2_max:h]\n",
    "yy = map_feature(xx1.ravel(), xx2.ravel(), degree)\n",
    "yy[:, 1::] = (yy[:, 1::] - mu) / sd\n",
    "yy = yy.dot(w)\n",
    "yy = yy.reshape(xx1.shape)\n",
    "\n",
    "xx1 = (xx1 - mu[0]) / sd[0]\n",
    "xx2 = (xx2 - mu[1]) / sd[1]\n",
    "\n",
    "plt.contour(xx1, xx2, yy, levels = [0], colors = 'green')\n",
    "plt.draw()\n",
    "plt.show()"
   ]
  },
  {
   "cell_type": "markdown",
   "metadata": {},
   "source": [
    "## 7. Accuracy"
   ]
  },
  {
   "cell_type": "code",
   "execution_count": 11,
   "metadata": {},
   "outputs": [
    {
     "name": "stdout",
     "output_type": "stream",
     "text": [
      "Accuracy = 83.898305\n"
     ]
    }
   ],
   "source": [
    "def predict(X, w):\n",
    "    return np.floor(sigmoid(X.dot(w)) + 0.5)\n",
    "\n",
    "Y_pred = predict(X, w)\n",
    "print('Accuracy = %f' % (np.mean(Y_pred == Y) * 100))"
   ]
  },
  {
   "cell_type": "code",
   "execution_count": null,
   "metadata": {
    "collapsed": true
   },
   "outputs": [],
   "source": []
  }
 ],
 "metadata": {
  "kernelspec": {
   "display_name": "Python 3",
   "language": "python",
   "name": "python3"
  },
  "language_info": {
   "codemirror_mode": {
    "name": "ipython",
    "version": 3
   },
   "file_extension": ".py",
   "mimetype": "text/x-python",
   "name": "python",
   "nbconvert_exporter": "python",
   "pygments_lexer": "ipython3",
   "version": "3.5.4"
  }
 },
 "nbformat": 4,
 "nbformat_minor": 2
}
