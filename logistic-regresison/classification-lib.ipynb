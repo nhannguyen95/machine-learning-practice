{
 "cells": [
  {
   "cell_type": "markdown",
   "metadata": {},
   "source": [
    "## Content\n",
    "\n",
    "1. Loading and Visualizing data\n",
    "2. Feature mapping\n",
    "3. Regularization\n",
    "4. Using model from library\n",
    "5. Plotting the result\n",
    "6. Accuracy"
   ]
  },
  {
   "cell_type": "code",
   "execution_count": 1,
   "metadata": {},
   "outputs": [],
   "source": [
    "import numpy as np\n",
    "import matplotlib.pyplot as plt\n",
    "from sklearn import linear_model"
   ]
  },
  {
   "cell_type": "markdown",
   "metadata": {},
   "source": [
    "## 1. Loading and Visualizing data"
   ]
  },
  {
   "cell_type": "code",
   "execution_count": 2,
   "metadata": {
    "collapsed": true
   },
   "outputs": [],
   "source": [
    "# The data is from Coursera Machine Learning course/week3/ex2data2.txt\n",
    "data = np.loadtxt('../data/data4.txt', delimiter = ',')\n",
    "\n",
    "# Some useful variables\n",
    "m = data.shape[0]      # Number of training examples\n",
    "n = data.shape[1] - 1  # Number of features\n",
    "\n",
    "X = data[:, 0:n]  # Score of 2 different tests on a microchip\n",
    "Y = data[:, n, np.newaxis]  # Pass or Fail"
   ]
  },
  {
   "cell_type": "code",
   "execution_count": 3,
   "metadata": {},
   "outputs": [
    {
     "data": {
      "image/png": "[encoded data removed]",
      "text/plain": [
       "<matplotlib.figure.Figure at 0x10d192470>"
      ]
     },
     "metadata": {},
     "output_type": "display_data"
    }
   ],
   "source": [
    "figureId = 1\n",
    "\n",
    "def plotData(X, Y):\n",
    "    global figureId\n",
    "    plt.figure(figureId)\n",
    "    plt.xlabel('Exam 1 score')\n",
    "    plt.ylabel('Exam 2 score')\n",
    "    neg = np.where(Y == 0)[0]  # index of fail examples\n",
    "    pos = np.where(Y == 1)[0]  # index of pass examples\n",
    "    plt.plot(X[neg, 0], X[neg, 1], 'o', color = 'blue', mec = 'black', label = 'Fail')\n",
    "    plt.plot(X[pos, 0], X[pos, 1], 's', color = 'yellow', mec = 'black', label = 'Pass')\n",
    "    plt.legend(loc = 'upper right')\n",
    "    plt.draw()\n",
    "    \n",
    "    figureId += 1\n",
    "    \n",
    "plotData(X, Y)\n",
    "plt.show()"
   ]
  },
  {
   "cell_type": "markdown",
   "metadata": {},
   "source": [
    "## 2. Feature mapping\n",
    "\n",
    "The data now is no longer (or atleast almost) linearly separable, it means we need to find a more complex decision boundary to classify the data better.\n",
    "\n",
    "Excluding bias term, we currently only have 2 original features that is $x_{1}$ - the score of the 1st test and $x_{2}$ - the score of the 2nd test. We can deduct new features from those 2 such as $x_1x_2$, $x_1^{2}x_2$, $x_1x_2^{2}$ etc.\n",
    "\n",
    "In implementation: if we're given a integer n, we can obtain new features from $x_1$, $x_2$ by taking the factors in the binomial expansion of the polynomial $(x_1 + x_2)^{1..n}$ (and omitting the coefficients). For example with n = 3:\n",
    "\n",
    "$$(x_1 + x_2)^1 = x_1 + x_2$$\n",
    "$$(x_1 + x_2)^2 = x_1^2 + 2x_1x_2 + x_2^2$$\n",
    "$$(x_1 + x_2)^3 = x_1^3 + 3x_1^2x_2 + 3x_1x_2^2 + x_2^3$$\n",
    "\n",
    "our features are: $(x_1, x_2, x_1^2, x_1x_2, x_2^{2}, x_1^{3}, x_1^2x_2, x_1x_2^2, x_2^{3})$ - excluding bias term."
   ]
  },
  {
   "cell_type": "code",
   "execution_count": 4,
   "metadata": {},
   "outputs": [],
   "source": [
    "def map_feature(X1, X2, degree):\n",
    "    X1 = np.atleast_1d(X1)  # In case X1 has 0 rank\n",
    "    X2 = np.atleast_1d(X2)\n",
    "    X = np.ones((X1.shape[0], 1))  # Adding bias term\n",
    "    for i in range(1, degree + 1):\n",
    "        for j in range(0, i + 1):\n",
    "            new_feature = (X1**(i - j)) * (X2**j)\n",
    "            X = np.column_stack((X, new_feature))\n",
    "    return X\n",
    "    \n",
    "degree = 6  # Highest degree of polynomial feature \n",
    "            # in order to fit the data better\n",
    "X = map_feature(X[:, 0, np.newaxis], X[:, 1, np.newaxis], degree)"
   ]
  },
  {
   "cell_type": "markdown",
   "metadata": {},
   "source": [
    "## 3. Regularization\n",
    "\n",
    "Adding more features can help your decision boundary becomes complex and classify the _training data_ accurately. However it may be depended too much on the training data and does not perform well on the new data (we call it the generalization on the new data).\n",
    "\n",
    "So we have 2 (contracy) problems here:\n",
    "* The algorithm fits the training data very well. We call this **overfitting**, or **high variance**. The algorithm may have a high probability of lossing the generalization on new data.\n",
    "* The algorithm maps the training data poorly. We call this **underfitting**, or **high bias**.\n",
    "\n",
    "What we want to achieve is something in between (also the algorithm needs to perform well on new data), and regularization comes into place to help us make a trade-off between these two. \n",
    "\n",
    "If we want to use regularization in our (logistic) model: a regularization term is added to the cost function:\n",
    "\n",
    "$$ J(\\theta) = \\frac{1}{m}\\sum_{i = 1}^{m}-y^{(i)}log(h_{\\theta}(x^{(i)}) -(1 - y^{(i)})log(1 - h_{\\theta}(x^{(i)}) ~(1) + \\frac{\\lambda}{m}\\sum_{j = 1}^{n}\\theta_{j}^{2} ~ (2)$$\n",
    "\n",
    "_$\\lambda$ is regularization parameter (and just like the learning rate $\\alpha$, $\\lambda$ also needs to be tuned)._\n",
    "\n",
    "Notice that $\\theta_{0}$ doesn't appear in the regularization term because it make very little difference to the results in pratice.\n",
    "\n",
    "Now, the cost function has 2 goals:\n",
    "+ First goal: minimizing the term $(1)$, in order to fit the training data well (ie. minimizing the error).\n",
    "+ Second goal: keep $\\theta$ in the term small $(2)$, the decision boundary becomes smoother and it may predict the new data well.\n",
    "\n",
    "And $\\lambda$ controls the trade off between these 2 different goals:\n",
    "+ If $\\lambda$ is small: the term $(2)$ is also small, the algorithm will now focus more on minimizing the term $(1)$.\n",
    "+ If $\\lambda$ is large: in order to minimize the cost function, $\\theta$ is penalized heavily ($\\theta \\approx 0$, $h_{\\theta}(x) \\approx \\theta_{0}$, so decision boundary doesn't fit the data well).\n",
    "\n",
    "Taking the derivative of cost function:\n",
    "\n",
    "$$ \\frac{dJ}{\\theta_{0}} = \\frac{1}{m}\\sum_{i = 1}^{m}(h_{\\theta}(x^{(i)} - y^{(i)})x_{0}^{(i)}$$\n",
    "\n",
    "$$ \\frac{dJ}{\\theta_{j \\neq 0}} = \\frac{1}{m}\\left [\\sum_{i = 1}^{m}(h_{\\theta}(x^{(i)} - y^{(i)})x_{j}^{(i)} + \\lambda \\theta_{j} \\right ] $$\n",
    "\n",
    "Having the derivative, you can code the gradient descent yourself. In the next section I will use `linear_model` from `sklearn` library."
   ]
  },
  {
   "cell_type": "markdown",
   "metadata": {},
   "source": [
    "## 4. Using model from library"
   ]
  },
  {
   "cell_type": "code",
   "execution_count": 5,
   "metadata": {
    "scrolled": true
   },
   "outputs": [
    {
     "data": {
      "text/plain": [
       "LogisticRegression(C=1, class_weight=None, dual=False, fit_intercept=True,\n",
       "          intercept_scaling=1, max_iter=100, multi_class='ovr', n_jobs=1,\n",
       "          penalty='l2', random_state=None, solver='liblinear', tol=0.0001,\n",
       "          verbose=0, warm_start=False)"
      ]
     },
     "execution_count": 5,
     "metadata": {},
     "output_type": "execute_result"
    }
   ],
   "source": [
    "# C is the inverse of lambda: the higher C is, the more\n",
    "# the algorithm will focus on fitting the data well\n",
    "logreg = linear_model.LogisticRegression(C = 1)\n",
    "\n",
    "# Create an instance of Neighbors Classifier and fit the data\n",
    "logreg.fit(X, Y.ravel())"
   ]
  },
  {
   "cell_type": "markdown",
   "metadata": {},
   "source": [
    "## 5. Plotting the result\n",
    "\n",
    "Traditionally, from $h_{\\theta}(x) = 0$, we want to deduct $x_1 = f(x_2)$ or $x_2 = f(x_1)$ in order to draw the decision boundary. Since $h_{\\theta}(x)$ is now too complex, we will use another way for plotting. \n",
    "\n",
    "The idea is very simple: for each $x = (x_1, x_2)$ point in the plane; we assign it a color if $h_{\\theta}(x) \\lt 0$, or another color if $h{\\theta}(x) \\ge 0$. The boundary decision is the border between these 2 different-color regions."
   ]
  },
  {
   "cell_type": "code",
   "execution_count": 6,
   "metadata": {},
   "outputs": [],
   "source": [
    "# Plot the decision boundary. For that, we will assign a color \n",
    "# to each point in the mesh [x_min, x_max] x [y_min, y_max]\n",
    "h = 0.02  # Step size in the mesh\n",
    "x_min, x_max = X[:, 1].min() - .5, X[:, 1].max() + .5  # X1 min and max\n",
    "y_min, y_max = X[:, 2].min() - .5, X[:, 2].max() + .5  # X2 min and max\n",
    "xx, yy = np.meshgrid(np.arange(x_min, x_max, h), np.arange(y_min, y_max, h))\n",
    "\n",
    "Z = logreg.predict(map_feature(xx.ravel(), yy.ravel(), degree))  # Predict the label of the mesh"
   ]
  },
  {
   "cell_type": "code",
   "execution_count": 7,
   "metadata": {},
   "outputs": [
    {
     "data": {
      "image/png": "[encoded data removed]",
      "text/plain": [
       "<matplotlib.figure.Figure at 0x10d16ee10>"
      ]
     },
     "metadata": {},
     "output_type": "display_data"
    }
   ],
   "source": [
    "Z = Z.reshape(xx.shape)\n",
    "plt.figure(figureId)\n",
    "plt.pcolormesh(xx, yy, Z, cmap = plt.cm.Paired)  # cmap: a color map\n",
    "                                                 # Paired means it only has 2 colors (0, 1)\n",
    "    \n",
    "# Also plot the training examples\n",
    "# Each point is assigned a value in c array, this value is used\n",
    "# to color the point by mapping to cmap.\n",
    "plt.scatter(X[:, 1], X[:, 2], c = Y, edgecolors = 'k', cmap = plt.cm.Paired)\n",
    "\n",
    "plt.xlabel('Test 1 score')\n",
    "plt.ylabel('Test 2 score')\n",
    "\n",
    "plt.xlim(x_min, x_max)\n",
    "plt.ylim(y_min, y_max)\n",
    "plt.xticks(())\n",
    "plt.yticks(())\n",
    "\n",
    "plt.show()"
   ]
  },
  {
   "cell_type": "markdown",
   "metadata": {},
   "source": [
    "## 6. Accuracy"
   ]
  },
  {
   "cell_type": "code",
   "execution_count": 14,
   "metadata": {},
   "outputs": [
    {
     "name": "stdout",
     "output_type": "stream",
     "text": [
      "Accuracy = 83.050847\n"
     ]
    }
   ],
   "source": [
    "Y_pred = logreg.predict(X)\n",
    "Y_pred = Y_pred.reshape(Y.shape)\n",
    "accuracy = np.sum((Y == Y_pred)) * 100 / m\n",
    "print('Accuracy = %f' % accuracy)"
   ]
  },
  {
   "cell_type": "code",
   "execution_count": null,
   "metadata": {
    "collapsed": true
   },
   "outputs": [],
   "source": []
  }
 ],
 "metadata": {
  "kernelspec": {
   "display_name": "Python 3",
   "language": "python",
   "name": "python3"
  },
  "language_info": {
   "codemirror_mode": {
    "name": "ipython",
    "version": 3
   },
   "file_extension": ".py",
   "mimetype": "text/x-python",
   "name": "python",
   "nbconvert_exporter": "python",
   "pygments_lexer": "ipython3",
   "version": "3.5.4"
  }
 },
 "nbformat": 4,
 "nbformat_minor": 2
}
