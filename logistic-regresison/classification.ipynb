{
 "cells": [
  {
   "cell_type": "markdown",
   "metadata": {},
   "source": [
    "## Content\n",
    "\n",
    "1. Loading and Visualizing data\n",
    "2. Constructing the model\n",
    "    * 2.1. Hypothesis function\n",
    "    * 2.2. Cost function\n",
    "    * 2.3. Taking the derivative\n",
    "3. Implementation/Training the model\n",
    "4. Plotting the result/Decision boundary\n",
    "5. Predicting on new data\n",
    "6. Adding polynomial features"
   ]
  },
  {
   "cell_type": "code",
   "execution_count": 1,
   "metadata": {
    "collapsed": true
   },
   "outputs": [],
   "source": [
    "import numpy as np\n",
    "import matplotlib.pyplot as plt"
   ]
  },
  {
   "cell_type": "markdown",
   "metadata": {},
   "source": [
    "## 1. Loading and Visualizing data"
   ]
  },
  {
   "cell_type": "code",
   "execution_count": 2,
   "metadata": {
    "collapsed": true
   },
   "outputs": [],
   "source": [
    "# The data is from Coursera Machine Learning course/week3/ex2data1.txt\n",
    "data = np.loadtxt('../data/data3.txt', delimiter = ',')\n",
    "\n",
    "m = data.shape[0]      # Number of examples\n",
    "n = data.shape[1] - 1  # Number of features\n",
    " \n",
    "X = data[:, 0:n]  # Score of first and second exam\n",
    "Y = data[:, n, np.newaxis]    # Pass or Fail"
   ]
  },
  {
   "cell_type": "code",
   "execution_count": 3,
   "metadata": {
    "collapsed": true
   },
   "outputs": [],
   "source": [
    "# Perform Feature Normalization using Standardization\n",
    "# x = (x - μ) / σ\n",
    "mu = np.mean(X, axis = 0)\n",
    "sd = np.std(X, axis = 0)\n",
    "X = (X - mu) / sd\n",
    "\n",
    "# Add bias term\n",
    "X = np.column_stack((np.ones((m, 1)), X))"
   ]
  },
  {
   "cell_type": "code",
   "execution_count": 4,
   "metadata": {
    "scrolled": true
   },
   "outputs": [
    {
     "data": {
      "image/png": "[encoded data removed]",
      "text/plain": [
       "<matplotlib.figure.Figure at 0x118f75978>"
      ]
     },
     "metadata": {},
     "output_type": "display_data"
    }
   ],
   "source": [
    "figureId = 1\n",
    "\n",
    "# @param X: first column is bias term\n",
    "def plotData(X, Y):\n",
    "    global figureId\n",
    "    plt.figure(figureId)\n",
    "    # plt.grid()\n",
    "    plt.xlabel('Exam 1 score')\n",
    "    plt.ylabel('Exam 2 score')\n",
    "    neg = np.where(Y == 0)[0]  # index of fail examples\n",
    "    pos = np.where(Y == 1)[0]  # index of pass examples\n",
    "    plt.plot(X[neg, 1], X[neg, 2], 'o', color = 'blue', mec = 'black', label = 'Fail')\n",
    "    plt.plot(X[pos, 1], X[pos, 2], 's', color = 'yellow', mec = 'black', label = 'Pass')\n",
    "    plt.legend(loc = 'upper right')\n",
    "    plt.draw()\n",
    "    \n",
    "    figureId += 1\n",
    "    \n",
    "plotData(X, Y)\n",
    "plt.show()"
   ]
  },
  {
   "cell_type": "markdown",
   "metadata": {},
   "source": [
    "## 2. Constructing the model\n",
    "\n",
    "### 2.1. Hypothesis function\n",
    "\n",
    "We start with Linear Regression model (hypothesis function is a linear function):\n",
    "\n",
    "$$h_{\\theta}(x) = \\theta^{T}x$$\n",
    "\n",
    "Our data consists of 2 labels which are 0 and 1, which means we need to limit $0 \\leq h_{\\theta}(x) \\leq 1$.\n",
    "\n",
    "There are many functions help us do that (which is take a real input and output a value between 0 and 1), we will use Sigmoid function:\n",
    "\n",
    "$$g(x) = \\frac{1}{1 + e^{-x}}$$\n",
    "\n",
    "Our final hypothesis function (which is also the hypothesis function of our Logistic Regression model):\n",
    "\n",
    "$$h_{\\theta}(x) = g(\\theta^{T}x) = \\frac{1}{1 + e^{-\\theta^{T}x}}$$\n",
    "\n",
    "This is a classification problem, but because of historical reason, we still use the term Logistic _Regression_ (_Regression_ implies problems whose output values are continuous). The term Logistic is used because sigmoid function is a type of logistic function.\n",
    "\n",
    "We can think $h_{\\theta}(x)$ of the estimated probablity that $y = 1$ on input x:\n",
    "$$ h_{\\theta}(x) = P(y = 1 \\mid x, \\theta)$$\n",
    "\n",
    "Obviously we must have a threshold to say to which class x will belong, 0.5 is a common one:\n",
    "* $ y = 1$ if $h_{\\theta}(x) \\gt 0.5$\n",
    "* $ y = 0$ if $h_{\\theta}(x) \\lt 0.5$\n",
    "* If $h_{\\theta}(x) = 0.5$, you can conlude that x neither belongs to class 0 nor 1, OR belongs to one of them (up to you)."
   ]
  },
  {
   "cell_type": "markdown",
   "metadata": {},
   "source": [
    "### 2.2. Cost function\n",
    "\n",
    "To design Cost function, we firstly have to design Loss function.\n",
    "\n",
    "Let's say we are observing a training data $i$ whose label is $ y^{(i)} = 1$, we define our loss function as $ L(\\hat{y}^{(i)}, y^{(i)}) = L(h_{\\theta}(x^{(i)}), y^{(i)})$. There are two cases (corresponding to two properties we want our loss function to have):\n",
    "* We predict the label correctly: which means $ h_{\\theta}(x^{(i)})$ is close to $1$, we will set the output value (the error) of Loss function small (maybe approach to $0$).\n",
    "* We predict the label incorrectly: which means $ h_{\\theta}(x^{(i)})$ is close to $0$, we want to penalize this heavily by letting Loss function output a big value (and maybe approach to `infinity`).\n",
    "\n",
    "Maybe you are thinking of a function like this:\n",
    "\n",
    "<img src=\"https://i.imgur.com/UVR35XQ.png\"/>\n",
    "\n",
    "One of the functions that satisfies these properties is $y = -log(x)$ \n",
    "\n",
    "So if $ y^{(i)} = 1$, loss function is $ L(h_{\\theta}(x^{(i)}, y^{(i)}) = -log(h_{\\theta}(x^{(i)})$. Similarly you can figure our yourself, if $ y^{(i)} = 0$, loss function is $ L(h_{\\theta}(x^{(i)}, y^{(i)}) = -log(1 - h_{\\theta}(x^{(i)})$\n",
    "\n",
    "We can combine those 2 functions into 1:\n",
    "\n",
    "$$ L(h_{\\theta}(x^{(i)}, y^{(i)}) = -y^{(i)}log(h_{\\theta}(x^{(i)}) -(1 - y^{(i)})log(1 - h_{\\theta}(x^{(i)})$$\n",
    "\n",
    "That is our Loss function (again, on a single training data), we can easily obtain Cost function by averaging Loss function on the whole training data set:\n",
    "\n",
    "$$ J(\\theta) = \\frac{1}{m}\\sum_{i = 1}^{m}-y^{(i)}log(h_{\\theta}(x^{(i)}) -(1 - y^{(i)})log(1 - h_{\\theta}(x^{(i)})$$"
   ]
  },
  {
   "cell_type": "markdown",
   "metadata": {},
   "source": [
    "### 2.3. Taking the derivative\n",
    "\n",
    "In order to minimize cost function $J(\\theta)$, we need to compute the derivatives of the variable $\\theta$ (I will leave the proof to you as an exercise):\n",
    "\n",
    "$$\\frac{dJ}{d\\theta_{j}} = \\frac{1}{m}\\sum_{i = 1}^{m}(h_{\\theta}(x^{(i)}) - y^{(i)})x_{j}^{(i)}$$\n",
    "\n",
    "As you may notice, this derivative formular is exactly the same with Linear Regression's."
   ]
  },
  {
   "cell_type": "markdown",
   "metadata": {},
   "source": [
    "## 3. Implementation/Training the model"
   ]
  },
  {
   "cell_type": "code",
   "execution_count": 5,
   "metadata": {
    "collapsed": true
   },
   "outputs": [],
   "source": [
    "alpha = 0.0025  # Learning rate \n",
    "w_init = np.zeros((n + 1, 1))  # Theta (weights)\n",
    "\n",
    "def sigmoid(X):\n",
    "    return 1 / (1 + np.exp(-X))\n",
    "\n",
    "def logistic_gradient_descent(X, Y, w_init, alpha, max_iter = 200):\n",
    "    w = w_init\n",
    "    iter = 0\n",
    "    while iter < max_iter:\n",
    "        error = sigmoid(X.dot(w)) - Y\n",
    "        w = w - alpha * (1 / m) * X.T.dot(error)\n",
    "        \n",
    "        iter += 1\n",
    "    \n",
    "    return w\n",
    "\n",
    "w = logistic_gradient_descent(X, Y, w_init, alpha)"
   ]
  },
  {
   "cell_type": "code",
   "execution_count": 6,
   "metadata": {},
   "outputs": [
    {
     "name": "stdout",
     "output_type": "stream",
     "text": [
      "[ 0.04702558  0.13241514  0.11821383]\n"
     ]
    }
   ],
   "source": [
    "print(w.ravel())"
   ]
  },
  {
   "cell_type": "markdown",
   "metadata": {},
   "source": [
    "## 4. Plotting the result/Decision boundary"
   ]
  },
  {
   "cell_type": "markdown",
   "metadata": {},
   "source": [
    "Looking at the data visualization: if we're doing correctly, there will be a line (or a curve) separate our data into 2 halves, corresponding to 2 classes (0 and 1).\n",
    "\n",
    "This line (or curve) is called **Decision boundary**, how do we gonna plot it? We will plot the set of points X which lie on the straight line (or curve) , which are not classified.\n",
    "\n",
    "The point X are not classified when $h_{\\theta}(X) = 0.5$, equivalent to $\\theta^{T}X = 0$"
   ]
  },
  {
   "cell_type": "code",
   "execution_count": 7,
   "metadata": {},
   "outputs": [
    {
     "data": {
      "image/png": "[encoded data removed]",
      "text/plain": [
       "<matplotlib.figure.Figure at 0x118f755c0>"
      ]
     },
     "metadata": {},
     "output_type": "display_data"
    }
   ],
   "source": [
    "#     w[0]x[0] + w[1]x[1] + w[2]x[2] = 0\n",
    "# <=> x[2] = (-w[1]x[1] - w[0]) / w[2] (bias term x[0] = 1)\n",
    "\n",
    "plotData(X, Y)\n",
    "\n",
    "plt.plot(X[:, 1], (-w[1] * X[:, 1] - w[0]) / w[2], \n",
    "        color = 'green',\n",
    "        linewidth = '0.5')\n",
    "plt.show()\n"
   ]
  },
  {
   "cell_type": "markdown",
   "metadata": {},
   "source": [
    "## 5. Predicting on new data"
   ]
  },
  {
   "cell_type": "code",
   "execution_count": 8,
   "metadata": {},
   "outputs": [
    {
     "name": "stdout",
     "output_type": "stream",
     "text": [
      "Predicting the label for:  [[-1.82040413 -1.29380581]]\n",
      "Fail\n"
     ]
    }
   ],
   "source": [
    "def predict(X, w):\n",
    "    X = np.column_stack((np.ones((X.shape[0], 1)), X))  # Bias term\n",
    "    return sigmoid(X.dot(w))\n",
    "    \n",
    "scores = np.array([[30.4, 42.3]])    \n",
    "scores = (scores - mu) / sd  # Need to normalize before predicting\n",
    "print('Predicting the label for: ', scores[0::])\n",
    "if predict(scores, w) >= 0.5:\n",
    "    print('Pass')\n",
    "else:\n",
    "    print('Fail')\n"
   ]
  },
  {
   "cell_type": "markdown",
   "metadata": {},
   "source": [
    "## 6. Adding polynomial features"
   ]
  },
  {
   "cell_type": "markdown",
   "metadata": {},
   "source": [
    "Looking at the current decision boundary, maybe we can classify 2 classes better if it's a curve (this may cause overfitting but we will talk about it later, I'm just doing this for understanding purpose).\n",
    "\n",
    "In each training example, we have $x_{1}$, $x_{2}$ as the score of 2 tests. In order to obtain a more complex decision boundary, we can produce polynomial features from two original features such as $x_{1}x_{2}$, $x_{1}^{2}x_{2}$, $x_{1}x_{2}^{2}$ etc. \n",
    "\n",
    "For the decision boundary to be drawable, I'm gonna add $x_{1}^{2}$ and $x_{1}^{3}$:"
   ]
  },
  {
   "cell_type": "code",
   "execution_count": 9,
   "metadata": {
    "collapsed": true
   },
   "outputs": [],
   "source": [
    "X1 = data[:, 0, np.newaxis]\n",
    "X2 = data[:, 1, np.newaxis]\n",
    "Xp = np.column_stack((X1, X2, X1 ** 2, X1 ** 3))\n",
    "\n",
    "# Feature Scaling\n",
    "mu = np.mean(Xp, axis = 0)\n",
    "sd = np.std(Xp, axis = 0)\n",
    "Xp = (Xp - mu) / sd\n",
    "\n",
    "# Bias term\n",
    "Xp = np.column_stack((np.ones((m, 1)), Xp))"
   ]
  },
  {
   "cell_type": "code",
   "execution_count": 10,
   "metadata": {},
   "outputs": [
    {
     "name": "stdout",
     "output_type": "stream",
     "text": [
      "[ 0.26969444  0.45642391  0.66774891  0.39451774  0.33234502]\n"
     ]
    }
   ],
   "source": [
    "alpha = 0.0025\n",
    "w_init = np.zeros((Xp.shape[1], 1))\n",
    "\n",
    "w = logistic_gradient_descent(Xp, Y, w_init, alpha, max_iter = 1500)\n",
    "w = w.ravel()\n",
    "print(w)"
   ]
  },
  {
   "cell_type": "code",
   "execution_count": 11,
   "metadata": {},
   "outputs": [
    {
     "data": {
      "image/png": "[encoded data removed]",
      "text/plain": [
       "<matplotlib.figure.Figure at 0x11b09e940>"
      ]
     },
     "metadata": {},
     "output_type": "display_data"
    }
   ],
   "source": [
    "# Plot the training examples\n",
    "plotData(X, Y)\n",
    "\n",
    "# Calculate points which lie on the decision boundary\n",
    "#     w0x0 + w1x1 + w2x2 + w3x1^2 + w4x1^3 = 0\n",
    "# <=> x2 = (-w0 - w1x1 - w3x1^2 - w4x1^3) / w2\n",
    "X1_db = Xp[:, 1]\n",
    "np.ndarray.sort(X1_db)\n",
    "X2_db = (-w[0] - w[1]*X1_db - w[3]*(X1_db**2) - w[4]*(X1_db**3)) / w[2]\n",
    "\n",
    "# Limit the range of Ox and Oy (because some points may overshoot the current view)\n",
    "plt.xlim(np.min(Xp[:, 1]), np.max(Xp[:, 1]))\n",
    "plt.ylim(np.min(Xp[:, 2]), np.max(Xp[:, 2]))\n",
    "\n",
    "# Plot the decision boundary\n",
    "plt.plot(X1_db, X2_db, \n",
    "        color = 'green')\n",
    "plt.show()"
   ]
  },
  {
   "cell_type": "markdown",
   "metadata": {},
   "source": [
    "Actually it's not better than the straight line decision boundary but you get the idea."
   ]
  }
 ],
 "metadata": {
  "kernelspec": {
   "display_name": "Python 3",
   "language": "python",
   "name": "python3"
  },
  "language_info": {
   "codemirror_mode": {
    "name": "ipython",
    "version": 3
   },
   "file_extension": ".py",
   "mimetype": "text/x-python",
   "name": "python",
   "nbconvert_exporter": "python",
   "pygments_lexer": "ipython3",
   "version": "3.5.4"
  }
 },
 "nbformat": 4,
 "nbformat_minor": 2
}
